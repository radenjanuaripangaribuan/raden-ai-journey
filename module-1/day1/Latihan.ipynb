{
 "cells": [
  {
   "cell_type": "markdown",
   "id": "1ecba47b-6add-425e-b878-a9ffe27eadbb",
   "metadata": {},
   "source": [
    "# Latihan Python Dasar - Day 1\n",
    "Catatan latihan pemrograman Python pertama oleh Raden Januar Pangaribuan."
   ]
  },
  {
   "cell_type": "code",
   "execution_count": 2,
   "id": "79ecdf0a-663b-4b15-b224-2addc871d798",
   "metadata": {},
   "outputs": [
    {
     "name": "stdout",
     "output_type": "stream",
     "text": [
      "Halo, dunia!\n",
      "Hasil penjumlahan: 15\n"
     ]
    }
   ],
   "source": [
    "# Menampilkan teks\n",
    "print(\"Halo, dunia!\")\n",
    "\n",
    "# Variabel dan operasi dasar\n",
    "a = 10\n",
    "b = 5\n",
    "c = a + b\n",
    "print(\"Hasil penjumlahan:\", c)\n"
   ]
  },
  {
   "cell_type": "code",
   "execution_count": 4,
   "id": "c43f1c5e-73de-481c-8105-69be2b09f3ed",
   "metadata": {},
   "outputs": [
    {
     "name": "stdout",
     "output_type": "stream",
     "text": [
      "Selamat belajar Python, Raden!\n",
      "Nama saya Raden dan umur saya 25\n",
      "Penjumlahan: 15\n",
      "Perkalian: 50\n",
      "BELAJAR AI ITU MENYENANGKAN!\n"
     ]
    }
   ],
   "source": [
    "#Menampilkan teks\n",
    "print(\"Selamat belajar Python, Raden!\")\n",
    "\n",
    "#Variabel\n",
    "nama = \"Raden\"\n",
    "umur = 25\n",
    "print(\"Nama saya\", nama, \"dan umur saya\", umur)\n",
    "\n",
    "#Operasi Matematika\n",
    "a = 10\n",
    "b = 5\n",
    "print(\"Penjumlahan:\", a + b)\n",
    "print(\"Perkalian:\", a * b)\n",
    "\n",
    "#String Manipulation\n",
    "teks = \"Belajar AI itu menyenangkan!\"\n",
    "print(teks.upper())"
   ]
  },
  {
   "cell_type": "code",
   "execution_count": null,
   "id": "a311025c-2bf0-489f-8531-453a60ae5d2e",
   "metadata": {},
   "outputs": [],
   "source": []
  }
 ],
 "metadata": {
  "kernelspec": {
   "display_name": "Python 3 (ipykernel)",
   "language": "python",
   "name": "python3"
  },
  "language_info": {
   "codemirror_mode": {
    "name": "ipython",
    "version": 3
   },
   "file_extension": ".py",
   "mimetype": "text/x-python",
   "name": "python",
   "nbconvert_exporter": "python",
   "pygments_lexer": "ipython3",
   "version": "3.12.0"
  }
 },
 "nbformat": 4,
 "nbformat_minor": 5
}
